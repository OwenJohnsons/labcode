{
 "metadata": {
  "language_info": {
   "codemirror_mode": {
    "name": "ipython",
    "version": 3
   },
   "file_extension": ".py",
   "mimetype": "text/x-python",
   "name": "python",
   "nbconvert_exporter": "python",
   "pygments_lexer": "ipython3",
   "version": "3.8.5-final"
  },
  "orig_nbformat": 2,
  "kernelspec": {
   "name": "python3",
   "display_name": "Python 3.8.5 64-bit",
   "metadata": {
    "interpreter": {
     "hash": "579282893146967bc5d17141c601e8a8b8ad4a0a2a5a6fe1c87b1000077400d7"
    }
   }
  }
 },
 "nbformat": 4,
 "nbformat_minor": 2,
 "cells": [
  {
   "cell_type": "code",
   "execution_count": 1,
   "metadata": {},
   "outputs": [],
   "source": [
    "import numpy as np \n",
    "import pandas as pd \n",
    "import math\n",
    "import uncertainties\n",
    "from uncertainties import ufloat_fromstr\n",
    "from uncertainties import unumpy as unp\n",
    "from uncertainties import ufloat\n",
    "import matplotlib.mlab as mlab\n",
    "import matplotlib.pyplot as plt\n",
    "from scipy import stats\n",
    "from scipy . optimize import curve_fit\n",
    "from scipy . interpolate import interp1d\n",
    "from scipy import optimize\n",
    "\n",
    "# --- plot parameters --- \n",
    "plt.rcParams[\"figure.figsize\"] = (15,10)\n",
    "plt.rc('font', family = 'serif', serif = 'cmr10') \n",
    "plt.rcParams.update({'font.size': 22})\n",
    "plt.rcParams['axes.unicode_minus'] = False"
   ]
  },
  {
   "cell_type": "code",
   "execution_count": 2,
   "metadata": {},
   "outputs": [],
   "source": [
    "# --- Importing Lab Data --- \n",
    "\n",
    "Green_Laser = np.loadtxt(\"Data\\Green_Laser.dat\", unpack = True)\n",
    "HeNe_Laser = np.loadtxt(\"Data\\HeNe_Laser.dat\", unpack = True)\n",
    "Blue_Laser = np.loadtxt(\"Data\\Blue_Laser.txt\", unpack = True)\n",
    "\n",
    "# --- Time interval --- \n",
    "\n",
    "t = np.linspace(0, 10, 1000)\n",
    "\n",
    "# --- Supplementary Data --- \n",
    "\n",
    "HeNe_Motor = ufloat(3.567e-4, 1.3e-6)\n",
    "Green_Motor = ufloat(3.670e-4, 1.3e-6)\n",
    "Blue_Motor = ufloat(2.450e-4, 1.3e-6)\n",
    "#--- \n",
    "HeNe_Motor_time = ufloat(621.5, 2)\n",
    "Green_Motor_time = ufloat(775, 2)\n",
    "Blue_Motor_time = ufloat(1523, 2)"
   ]
  },
  {
   "cell_type": "code",
   "execution_count": 3,
   "metadata": {},
   "outputs": [],
   "source": [
    "def PathDifference(data, time_motor, time_sample, sample_rate, distance): # Where distance is the start and end point of mirror over a time interval. \n",
    "    xt = distance/time_motor #returns the mirror speed in m/s for each travel. \n",
    "    dt = time_sample/sample_rate\n",
    "    return xt*dt*1e9"
   ]
  },
  {
   "cell_type": "code",
   "execution_count": 4,
   "metadata": {},
   "outputs": [
    {
     "output_type": "execute_result",
     "data": {
      "text/plain": [
       "'4.74+/-0.02'"
      ]
     },
     "metadata": {},
     "execution_count": 4
    }
   ],
   "source": [
    "'{:.3}'.format(PathDifference(Green_Motor, Green_Motor_time, 10, 1000, Green_Motor))"
   ]
  },
  {
   "cell_type": "code",
   "execution_count": 5,
   "metadata": {},
   "outputs": [
    {
     "output_type": "execute_result",
     "data": {
      "text/plain": [
       "'1.61+/-0.01'"
      ]
     },
     "metadata": {},
     "execution_count": 5
    }
   ],
   "source": [
    "'{:.3}'.format(PathDifference(Blue_Motor, Blue_Motor_time, 10, 1000, Blue_Motor))"
   ]
  },
  {
   "cell_type": "code",
   "execution_count": 6,
   "metadata": {},
   "outputs": [],
   "source": [
    "def freq(d_t, t_t, t_s, N):\n",
    "     return (2*(d_t/t_t)*t_s)/N #Where, d_t is dist. travelled by motor, t_t travel duration, t_s sampling duration, N sample rate. \n",
    "\n",
    "def fft(data):\n",
    "     ft_data = np.fft.fft(data)\n",
    "     ft_amp = np.abs(ft_data)\n",
    "     ft_freq = np.abs(np.fft.fftfreq(int(len(ft_data))))\n",
    "     ft_waves = 1/ft_freq \n",
    "     return ft_data, ft_amp, ft_freq, ft_waves\n",
    "\n",
    "def wavelength(dist, t, tsamp, N, ft_amp, a, b): \n",
    "    dx = (((2*dist)/t)*tsamp)/N\n",
    "\n",
    "    λ = []\n",
    "    Δλ = []\n",
    "\n",
    "    for i in range(0, N):\n",
    "        λv = N*(dx/(i + 1))\n",
    "        Δλv = N*(dx/((i + 1)*(i + 2)))\n",
    "        λ.append(λv)\n",
    "        Δλ.append(Δλv)\n",
    "\n",
    "    red = np.array(λ)*1e9 # --- scaling to nm for better illustration \n",
    "    Δλ = np.array(Δλ)*1e9\n",
    "\n",
    "    na = []\n",
    "    nw = []\n",
    "    \n",
    "    for i in range(0, len(red)):\n",
    "        if a > red[i] > b:\n",
    "            na.append(ft_amp[i])\n",
    "            nw.append(red[i])\n",
    "\n",
    "    ft_data_f = [na, nw]\n",
    "    corresponding_λ = nw[np.argmax(ft_data_f[0])]\n",
    "    print('corresponding λ is', '{:.3f}'.format(corresponding_λ), 'nm')\n",
    "\n",
    "    x = (nw[np.argmax(ft_data_f[0])]/2)*(nw[np.argmax(ft_data_f[0])] - nw[np.argmax(ft_data_f[0]) + 1])\n",
    "\n",
    "    return na, nw, corresponding_λ, Δλ, x "
   ]
  },
  {
   "cell_type": "code",
   "execution_count": 7,
   "metadata": {},
   "outputs": [
    {
     "output_type": "stream",
     "name": "stdout",
     "text": [
      "corresponding λ is 604.141+/-2.937 nm\ncorresponding λ is 473.548+/-2.075 nm\ncorresponding λ is 402.167+/-2.198 nm\n"
     ]
    }
   ],
   "source": [
    "ft_HeNe = fft(HeNe_Laser)\n",
    "HeNe_Wavelength = wavelength(HeNe_Motor, HeNe_Motor_time, 10, 1000, ft_HeNe[1], 2000, 50)\n",
    "\n",
    "ft_Green = fft(Green_Laser)\n",
    "Green_Wavelength = wavelength(Green_Motor, Green_Motor_time, 10, 1000, ft_Green[1], 5000, 50)\n",
    "\n",
    "ft_Blue = fft(Blue_Laser)\n",
    "Blue_Wavelength = wavelength(Blue_Motor, Blue_Motor_time, 10, 1000, ft_Blue[1], 3000, 50)"
   ]
  },
  {
   "source": [
    "# Calculating other factors. "
   ],
   "cell_type": "markdown",
   "metadata": {}
  },
  {
   "source": [
    "## $$(\\Delta \\lambda)_{min} = n_t \\lambda^2 / x_t (N - 1) $$ "
   ],
   "cell_type": "markdown",
   "metadata": {}
  },
  {
   "source": [
    "## $$ \\lambda_{min} \\ = \\ 2(x_t/n_t) $$"
   ],
   "cell_type": "markdown",
   "metadata": {}
  },
  {
   "cell_type": "code",
   "execution_count": 8,
   "metadata": {},
   "outputs": [],
   "source": [
    "def min_res_wavelength(wavelength, n, x, N):\n",
    "    return (n*wavelength**2)/(x*(N - 1))\n",
    "\n",
    "def xt(distance, time_motor):\n",
    "    return distance/time_motor*1e9"
   ]
  },
  {
   "cell_type": "code",
   "execution_count": 9,
   "metadata": {},
   "outputs": [
    {
     "output_type": "stream",
     "name": "stdout",
     "text": [
      "λ_min HeNe: 11.48+/-0.06 nm\nHeNe MRW: 27.91+/-0.14 nm\nλ_min Green: 9.47+/-0.04 nm\nGreen MRW: 33.82+/-0.15 nm\nλ_min Blue: 3.217+/-0.018 nm\nBlue MRW: 99.6+/-0.5 nm\n"
     ]
    }
   ],
   "source": [
    "xt_HeNe = xt(HeNe_Motor, HeNe_Motor_time)\n",
    "print('λ_min HeNe:', (xt_HeNe/100)*2, 'nm')\n",
    "MRW_HeNe = min_res_wavelength(400, 100, xt_HeNe, 1000)\n",
    "print('HeNe MRW:', MRW_HeNe, 'nm')\n",
    "\n",
    "xt_Green = xt(Green_Motor, Green_Motor_time)\n",
    "print('λ_min Green:', (xt_Green/100)*2, 'nm')\n",
    "MRW_Green = min_res_wavelength(400, 100, xt_Green, 1000)\n",
    "print('Green MRW:', MRW_Green, 'nm')\n",
    "\n",
    "xt_Blue = xt(Blue_Motor, Blue_Motor_time)\n",
    "print('λ_min Blue:', (xt_Blue/100)*2, 'nm')\n",
    "MRW_Blue = min_res_wavelength(400, 100, xt_Blue, 1000)\n",
    "print('Blue MRW:', MRW_Blue, 'nm')\n"
   ]
  },
  {
   "cell_type": "code",
   "execution_count": null,
   "metadata": {},
   "outputs": [],
   "source": []
  }
 ]
}