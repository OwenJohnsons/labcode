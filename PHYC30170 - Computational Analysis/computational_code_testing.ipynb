{
 "metadata": {
  "language_info": {
   "codemirror_mode": {
    "name": "ipython",
    "version": 3
   },
   "file_extension": ".py",
   "mimetype": "text/x-python",
   "name": "python",
   "nbconvert_exporter": "python",
   "pygments_lexer": "ipython3",
   "version": "3.8.5-final"
  },
  "orig_nbformat": 2,
  "kernelspec": {
   "name": "python3",
   "display_name": "Python 3.8.5 64-bit",
   "metadata": {
    "interpreter": {
     "hash": "579282893146967bc5d17141c601e8a8b8ad4a0a2a5a6fe1c87b1000077400d7"
    }
   }
  }
 },
 "nbformat": 4,
 "nbformat_minor": 2,
 "cells": [
  {
   "cell_type": "code",
   "execution_count": 2,
   "metadata": {},
   "outputs": [
    {
     "output_type": "error",
     "ename": "ModuleNotFoundError",
     "evalue": "No module named 'vpython'",
     "traceback": [
      "\u001b[1;31m---------------------------------------------------------------------------\u001b[0m",
      "\u001b[1;31mModuleNotFoundError\u001b[0m                       Traceback (most recent call last)",
      "\u001b[1;32m<ipython-input-2-7052b3f803c6>\u001b[0m in \u001b[0;36m<module>\u001b[1;34m\u001b[0m\n\u001b[0;32m      1\u001b[0m \u001b[1;32mfrom\u001b[0m \u001b[0m__future__\u001b[0m \u001b[1;32mimport\u001b[0m \u001b[0mdivision\u001b[0m    \u001b[1;31m## Import floating point division\u001b[0m\u001b[1;33m\u001b[0m\u001b[1;33m\u001b[0m\u001b[0m\n\u001b[1;32m----> 2\u001b[1;33m \u001b[1;32mfrom\u001b[0m \u001b[0mvpython\u001b[0m \u001b[1;32mimport\u001b[0m \u001b[1;33m*\u001b[0m              \u001b[1;31m## Import vpython for visualizations\u001b[0m\u001b[1;33m\u001b[0m\u001b[1;33m\u001b[0m\u001b[0m\n\u001b[0m",
      "\u001b[1;31mModuleNotFoundError\u001b[0m: No module named 'vpython'"
     ]
    }
   ],
   "source": [
    "from __future__ import division    ## Import floating point division\n",
    "from vpython import *              ## Import vpython for visualizations"
   ]
  },
  {
   "cell_type": "code",
   "execution_count": null,
   "metadata": {},
   "outputs": [],
   "source": [
    "k = 9e9           ## Permitivity of free space in SI units\n",
    "Q = 0.1e-6        ## Total charge distributed over the rod in Coulombs\n",
    "L = 1             ## Length of the rod in meters\n",
    "\n",
    "N = 4             ## Number of chunks the rod gets broken into\n",
    "dq = Q/N          ## Charge of a given chunk depends on the number of chunks\n",
    "\n",
    "EScale = 1e-4     ## Scale factor for visualizing arrows"
   ]
  },
  {
   "cell_type": "code",
   "execution_count": null,
   "metadata": {},
   "outputs": [],
   "source": [
    "\n",
    "Enet = vector(0,0,0)      ## Initialize the electric field\n",
    "rObs = vector(0.1,0,0)    ## Set the observation location"
   ]
  },
  {
   "cell_type": "code",
   "execution_count": null,
   "metadata": {},
   "outputs": [],
   "source": [
    "\n",
    "\n",
    "## Creates the scene, which is just the visual window below\n",
    "scene=canvas(title=\"Electric Field Due to a Uniformly Charged Rod\")\n",
    "\n",
    "## Creates a rod positioned as defined in the problem\n",
    "rod = cylinder(pos=vector(0,-0.5,0), axis=vector(0,L,0), radius=0.01, color=color.red) \n",
    "\n",
    "## Initializes the counter\n",
    "i = 0\n",
    "\n",
    "## Calculation loop that places N charges and (when completed) calculates the contribution of \n",
    "## each charge to the total electric field, adding that contribution to the total\n",
    "while i < N:\n",
    "    \n",
    "    ## Defines each source location as the center of the chunk\n",
    "    rSource = vector(0,L/2-(i+0.5)*L/N,0)\n",
    "    \n",
    "    ## Places a sphere at the source location to allow visualization of the chunks\n",
    "    sourceCharge = sphere(pos=vector(rSource), radius=0.02, color=color.white)\n",
    "    \n",
    "    ### Enter Your Physics Calculations Here for dE and Enet\n",
    "    \n",
    "    \n",
    "    ## Uncomment this line once you have determined dE\n",
    "    # dEArrow = arrow(pos=rObs, axis=EScale*dE, color=color.yellow)\n",
    "    \n",
    "    i=i+1\n",
    "    \n",
    "EnetArrow = arrow(pos=rObs, axis=EScale*Enet, color=color.white)\n",
    "print(\"The net electric field at point P = \",Enet, \"N/C\")\n",
    "\n"
   ]
  }
 ]
}