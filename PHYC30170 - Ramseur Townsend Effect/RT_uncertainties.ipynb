{
 "metadata": {
  "language_info": {
   "codemirror_mode": {
    "name": "ipython",
    "version": 3
   },
   "file_extension": ".py",
   "mimetype": "text/x-python",
   "name": "python",
   "nbconvert_exporter": "python",
   "pygments_lexer": "ipython3",
   "version": "3.8.5-final"
  },
  "orig_nbformat": 2,
  "kernelspec": {
   "name": "python3",
   "display_name": "Python 3",
   "language": "python"
  }
 },
 "nbformat": 4,
 "nbformat_minor": 2,
 "cells": [
  {
   "cell_type": "code",
   "execution_count": 1,
   "metadata": {},
   "outputs": [],
   "source": [
    "import numpy as np \n",
    "import pandas as pd \n",
    "import uncertainties\n",
    "from uncertainties import ufloat_fromstr\n",
    "# from uncertainties.umath import\n",
    "from uncertainties import unumpy"
   ]
  },
  {
   "cell_type": "code",
   "execution_count": 2,
   "metadata": {},
   "outputs": [],
   "source": [
    "# --- function definition --- \n",
    "\n",
    "def current(V, R):\n",
    "    return (V/R)\n",
    "\n",
    "def prob_scat(IP1, IP2, IS1, IS2): \n",
    "    return 1 - (IP1*IS2)/(IP2*IS1)\n",
    "\n",
    "def mean_free(P):\n",
    "    U = 1 - P \n",
    "    return -0.7/(unumpy.log(U))\n",
    "\n",
    "def prob_col(IP1, IP2, IS1, IS2):\n",
    "    p = 1e-3 #Torr \n",
    "    l = 0.7 #cm \n",
    "    return (-p/l)*(unumpy.log((IP1*IS2)/(IP2*IS1)))"
   ]
  },
  {
   "cell_type": "code",
   "execution_count": 3,
   "metadata": {},
   "outputs": [
    {
     "output_type": "stream",
     "name": "stdout",
     "text": [
      "(45,)\n"
     ]
    }
   ],
   "source": [
    "# --- data import --- \n",
    "voltage1, plate_voltage1, shield_voltage1  = np.loadtxt(\"forward_bias.dat\", unpack = True) \n",
    "voltage2, plate_voltage2, shield_voltage2  = np.loadtxt(\"forward_bias_cooled.dat\", unpack = True) \n",
    "voltage3, shield_voltage3  = np.loadtxt(\"reverse_bias_cooled.dat\", unpack = True) \n",
    "\n",
    "\n",
    "# --- intial data manipulation --- \n",
    "\n",
    "IP1 = current(plate_voltage1, 10000)\n",
    "IS1 = current(shield_voltage1, 100)\n",
    "\n",
    "IP2 = current(plate_voltage2, 10000)\n",
    "IS2 = current(shield_voltage2, 100)\n",
    "\n",
    "P = prob_scat(IP1, IP2, IS1, IS2)\n",
    "l = 0.7 #cm \n",
    "lam = mean_free(P)\n",
    "print(np.shape(lam))\n",
    "\n",
    "# -- Reverse Polarity --- \n",
    "\n",
    "IS3 = current(shield_voltage3, 100)\n",
    "# print(shield_voltage3)\n",
    "# print(IS3)\n",
    "LnIS3 = np.log(IS3)"
   ]
  },
  {
   "cell_type": "code",
   "execution_count": 10,
   "metadata": {},
   "outputs": [
    {
     "output_type": "stream",
     "name": "stdout",
     "text": [
      "[0.0+/-0 0.1+/-0.0008 0.2+/-0.0016 0.3+/-0.0024 0.4+/-0.0032 0.5+/-0.004\n 0.6+/-0.0048 0.7+/-0.0056 0.8+/-0.0064 0.9+/-0.007200000000000001\n 1.0+/-0.008 1.1+/-0.0088 1.2+/-0.0096 1.3+/-0.010400000000000001\n 1.4+/-0.0112 1.5+/-0.012 1.6+/-0.0128 1.7+/-0.0136\n 1.8+/-0.014400000000000001 1.9+/-0.0152 2.0+/-0.016 2.5+/-0.02\n 3.0+/-0.024 3.5+/-0.028 4.0+/-0.032 4.5+/-0.036000000000000004 5.0+/-0.04\n 5.5+/-0.044 6.0+/-0.048 6.5+/-0.052000000000000005 7.0+/-0.056 7.5+/-0.06\n 8.0+/-0.064 8.5+/-0.068 9.0+/-0.07200000000000001 9.5+/-0.076 10.0+/-0.08\n 10.5+/-0.084 11.0+/-0.088 11.5+/-0.092 12.0+/-0.096 12.5+/-0.1\n 13.0+/-0.10400000000000001 13.5+/-0.108 14.0+/-0.112]\n"
     ]
    }
   ],
   "source": [
    "# --- uncertaintiy def --- \n",
    "\n",
    "# --- Voltage Uncertainty --- \n",
    "vuc1 =  unumpy.uarray(voltage1, voltage1*0.008)\n",
    "vuc2 =  unumpy.uarray(voltage2, voltage2*0.008)\n",
    "vuc3 =  unumpy.uarray(voltage3, voltage3*0.008)\n",
    "\n",
    "# --- Plate Voltages uncertainty from manual \\pm 0.08% --- \n",
    "pv1u = unumpy.uarray(plate_voltage1, plate_voltage1*0.008)\n",
    "pv2u = unumpy.uarray(plate_voltage2, plate_voltage2*0.008)\n",
    "\n",
    "# --- Shield Voltages uncertainty from manual \\pm 0.08% --- \n",
    "sv1u = unumpy.uarray(shield_voltage1, shield_voltage1*0.008)\n",
    "sv2u = unumpy.uarray(shield_voltage2, shield_voltage2*0.008)\n",
    "sv3u = unumpy.uarray(shield_voltage3, shield_voltage3*0.008)"
   ]
  },
  {
   "cell_type": "code",
   "execution_count": 5,
   "metadata": {},
   "outputs": [],
   "source": [
    "# --- Current Uncertainty --- \n",
    "\n",
    "IPU1 = current(pv1u, 10000)\n",
    "ISU1 = current(sv1u, 100)\n",
    "\n",
    "IPU2 = current(pv2u, 10000)\n",
    "ISU2 = current(sv2u, 100)\n",
    "\n",
    "ISU3 = current(sv3u, 100)\n",
    "\n",
    "# print(IPU1)"
   ]
  },
  {
   "cell_type": "code",
   "execution_count": 6,
   "metadata": {},
   "outputs": [],
   "source": [
    "# --- Uncer on collisions --- \n",
    "\n",
    "PUC = prob_scat(IPU1, IPU2, ISU1, ISU2)\n",
    "CUC = prob_col(IPU1, IPU2, ISU1, ISU2)\n",
    "lamUC = mean_free(PUC)\n",
    "LnIS3UC = unumpy.log(ISU3)"
   ]
  },
  {
   "cell_type": "code",
   "execution_count": 7,
   "metadata": {},
   "outputs": [
    {
     "output_type": "stream",
     "name": "stdout",
     "text": [
      "20.76+/-0.27\n",
      "0.26662708039507166\n"
     ]
    }
   ],
   "source": [
    "# --- Contact Voltage --- \n",
    "CV = ufloat_fromstr(\"0.196+/-0.021\")\n",
    "\n",
    "# --- Thermonic Emmission Uncertainty --- \n",
    "slope1 = ufloat_fromstr(\"9.6+/-0.163\") # given by cov matrix \n",
    "slope2 = ufloat_fromstr(\"11.16+/-0.211\")\n",
    "\n",
    "sluc = slope1 + slope2\n",
    "print(sluc)\n",
    "print(sluc.s)\n",
    "\n",
    "TEUC = ufloat_fromstr(\"0.156+/-0.267\")"
   ]
  },
  {
   "cell_type": "code",
   "execution_count": 8,
   "metadata": {},
   "outputs": [],
   "source": [
    "# --- Corrected Voltages Uncertainty --- \n",
    "\n",
    "v_corr_uc = vuc1 - sv1u +  pv1u + TEUC + CV \n",
    "Corrected_Voltage_Uncer = unumpy.std_devs(v_corr_uc)    "
   ]
  },
  {
   "cell_type": "code",
   "execution_count": 9,
   "metadata": {},
   "outputs": [
    {
     "output_type": "stream",
     "name": "stdout",
     "text": [
      "[array([0.00496552, 0.00585366, 0.00873931, 0.01154098, 0.01308887,\n       0.01402777, 0.01454795, 0.01406742, 0.01364211, 0.01301847,\n       0.01238132, 0.01159401, 0.01063183, 0.00983908, 0.00903948,\n       0.00830934, 0.00747844, 0.00682165, 0.00657282, 0.00643699,\n       0.0058663 , 0.00350067, 0.00258743, 0.00197515, 0.00161519,\n       0.00135637, 0.00119064, 0.00106312, 0.000984  , 0.00096076,\n       0.00095549, 0.00096728, 0.00097586, 0.00100169, 0.00104171,\n       0.00110945, 0.00122133, 0.0013962 , 0.00163042, 0.00204019,\n       0.00175198, 0.00244771, 0.01521526, 0.01593832, 0.01642632]), array([2.28571429e-05, 2.28571429e-05, 2.28571429e-05, 2.28571429e-05,\n       2.28571429e-05, 2.28571429e-05, 2.28571429e-05, 2.28571429e-05,\n       2.28571429e-05, 2.28571429e-05, 2.28571429e-05, 2.28571429e-05,\n       2.28571429e-05, 2.28571429e-05, 2.28571429e-05, 2.28571429e-05,\n       2.28571429e-05, 2.28571429e-05, 2.28571429e-05, 2.28571429e-05,\n       2.28571429e-05, 2.28571429e-05, 2.28571429e-05, 2.28571429e-05,\n       2.28571429e-05, 2.28571429e-05, 2.28571429e-05, 2.28571429e-05,\n       2.28571429e-05, 2.28571429e-05, 2.28571429e-05, 2.28571429e-05,\n       2.28571429e-05, 2.28571429e-05, 2.28571429e-05, 2.28571429e-05,\n       2.28571429e-05, 2.28571429e-05, 2.28571429e-05, 2.28571429e-05,\n       2.28571429e-05, 2.28571429e-05, 2.28571429e-05, 2.28571429e-05,\n       2.28571429e-05]), array([8.18075533e-03, 1.10773272e-02, 3.06235530e-02, 1.04944983e-01,\n       2.77699189e-01, 6.47198102e-01, 1.23737463e+00, 6.75891834e-01,\n       4.40646434e-01, 2.63365216e-01, 1.70365827e-01, 1.07953418e-01,\n       6.70396797e-02, 4.73740851e-02, 3.43530432e-02, 2.60890866e-02,\n       1.93618138e-02, 1.54113899e-02, 1.41509051e-02, 1.35092479e-02,\n       1.11250134e-02, 4.84998162e-03, 3.37410465e-03, 2.55928287e-03,\n       2.12989357e-03, 1.83910038e-03, 1.65923302e-03, 1.52347705e-03,\n       1.44014923e-03, 1.41578197e-03, 1.41025836e-03, 1.42261168e-03,\n       1.43160891e-03, 1.45873774e-03, 1.50087452e-03, 1.57257575e-03,\n       1.69222186e-03, 1.88301353e-03, 2.14743968e-03, 2.64042799e-03,\n       2.28933335e-03, 3.17751620e-03, 4.42854045e+00, 7.50839270e+02,\n       1.61971985e+01]), array([ 0.26789386,  0.26805746,  0.26900364,  0.27137708,  0.27635817,\n        0.28468439,  0.29601203,  0.31127416,  0.33051439,  0.35307846,\n        0.37807777,  0.40463564,  0.43485878,  0.46578424,  0.50317146,\n        0.53870549,  0.57656868,  0.61514128,  0.6551268 ,  0.65163431,\n        0.69352577,  0.96688303,  1.20402847,  1.45277029,  1.71830747,\n        1.97148182,  2.24122868,  2.511469  ,  2.79003692,  3.07689185,\n        3.37989748,  3.69906394,  4.02639119,  4.36187351,  4.69753148,\n        5.04136154,  5.40142453,  5.68980445,  6.04241748,  6.4275397 ,\n        6.89434816,  7.84902453, 13.15837262, 18.94196616, 25.3428545 ])]\n"
     ]
    }
   ],
   "source": [
    "# --- Output to CSV. --- \n",
    "\n",
    "prob_uncer = unumpy.std_devs(PUC)\n",
    "col_uncer = unumpy.std_devs(CUC)\n",
    "freepath_uncer = unumpy.std_devs(lamUC)\n",
    "shieldcurrent_log_uncer = unumpy.std_devs(LnIS3UC)\n",
    "\n",
    "Output = [prob_uncer, col_uncer, freepath_uncer, Corrected_Voltage_Uncer]\n",
    "print(Output)\n",
    "dataset = pd.DataFrame({'Uncertainty on Probablity of Scattering': Output[0], 'Uncertainty on Probablity of Collisions': Output[1], 'Uncertainty on Mean Path Length': Output[2], 'Uncertainty on Corrected Voltage': Output[3]})\n",
    "# print(dataset)\n",
    "\n",
    "dataset.to_csv('uncer.csv')"
   ]
  }
 ]
}